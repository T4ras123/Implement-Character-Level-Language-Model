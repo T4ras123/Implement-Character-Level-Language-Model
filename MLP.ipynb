{
 "cells": [
  {
   "cell_type": "markdown",
   "metadata": {},
   "source": [
    "# Prepare the data"
   ]
  },
  {
   "cell_type": "code",
   "execution_count": 1,
   "metadata": {},
   "outputs": [],
   "source": [
    "import torch\n",
    "import torch.nn.functional as F\n",
    "import torch.nn as nn\n",
    "import matplotlib.pyplot as plt\n",
    "%matplotlib inline"
   ]
  },
  {
   "cell_type": "markdown",
   "metadata": {},
   "source": [
    "### Load data & tokenize"
   ]
  },
  {
   "cell_type": "code",
   "execution_count": 2,
   "metadata": {},
   "outputs": [
    {
     "name": "stdout",
     "output_type": "stream",
     "text": [
      "32033\n",
      "27\n"
     ]
    }
   ],
   "source": [
    "words = open('names.txt', 'r').read().splitlines()\n",
    "chars = ['.'] + sorted(list(set(\"\".join(words))))\n",
    "vocab_size = len(chars)\n",
    "\n",
    "stoi = {char:i for i, char in enumerate(chars)}\n",
    "itos = {i: char for char, i  in stoi.items()}\n",
    "\n",
    "print(len(words))\n",
    "print(vocab_size)"
   ]
  },
  {
   "cell_type": "markdown",
   "metadata": {},
   "source": [
    "### Create a train/val/tast split"
   ]
  },
  {
   "cell_type": "code",
   "execution_count": 3,
   "metadata": {},
   "outputs": [],
   "source": [
    "block_size = 6\n",
    "\n",
    "def build_dataset(words):\n",
    "    X, Y = [], []\n",
    "    for w in words:\n",
    "        context = [0]*block_size\n",
    "        for ch in w+'.':\n",
    "            ix = stoi[ch]\n",
    "            Y.append(ix)\n",
    "            X.append(context)\n",
    "            context = context[1:] + [ix]\n",
    "    X = torch.tensor(X)\n",
    "    Y = torch.tensor(Y)\n",
    "    return X, Y\n",
    "\n",
    "import random\n",
    "random.shuffle(words)\n",
    "n1 = int(0.8*len(words))\n",
    "n2 = int(0.9*len(words))\n",
    "\n",
    "Xtr, Ytr = build_dataset(words[:n1])\n",
    "Xdev, Ydev = build_dataset(words[n1:n2])\n",
    "Xte, Yte = build_dataset(words[n2:])"
   ]
  },
  {
   "cell_type": "markdown",
   "metadata": {},
   "source": [
    "# MLP"
   ]
  },
  {
   "cell_type": "markdown",
   "metadata": {},
   "source": [
    "### Initialize parameters"
   ]
  },
  {
   "cell_type": "code",
   "execution_count": 4,
   "metadata": {},
   "outputs": [],
   "source": [
    "embed_size = 10\n",
    "hidden_size = 300"
   ]
  },
  {
   "cell_type": "code",
   "execution_count": 5,
   "metadata": {},
   "outputs": [],
   "source": [
    "E = torch.randn((vocab_size, embed_size))       # 27 x 10\n",
    "W1 = torch.randn((embed_size*block_size, hidden_size))  * (5/3) / ((embed_size*block_size)**0.5)\n",
    "# b1 = torch.randn(hidden_size) * 0.01                          # 300\n",
    "W2 = torch.randn((hidden_size, vocab_size)) * 0.01           # 300 x 27\n",
    "b2 = torch.randn(vocab_size) * 0     #  27\n",
    "\n",
    "bnmean_running = torch.zeros((1, hidden_size))\n",
    "bnstd_running = torch.ones((1, hidden_size))\n",
    "\n",
    "bngain = torch.ones((1, hidden_size))\n",
    "bnbias = torch.zeros((1, hidden_size))\n",
    "parameters = [E, W1, W2, b2, bnbias, bngain]\n",
    "for p in parameters:\n",
    "    p.requires_grad = True"
   ]
  },
  {
   "cell_type": "code",
   "execution_count": 6,
   "metadata": {},
   "outputs": [
    {
     "data": {
      "text/plain": [
       "26997"
      ]
     },
     "execution_count": 6,
     "metadata": {},
     "output_type": "execute_result"
    }
   ],
   "source": [
    "# Number of parameters in the model\n",
    "params = sum(p.nelement() for p in parameters)\n",
    "params"
   ]
  },
  {
   "cell_type": "markdown",
   "metadata": {},
   "source": [
    "# Training"
   ]
  },
  {
   "cell_type": "code",
   "execution_count": 7,
   "metadata": {},
   "outputs": [],
   "source": [
    "lre = torch.linspace(-3, 0, 1000) \n",
    "lrs = 100**lre"
   ]
  },
  {
   "cell_type": "code",
   "execution_count": 8,
   "metadata": {},
   "outputs": [],
   "source": [
    "lri= []\n",
    "lossi = []\n",
    "stepi = []"
   ]
  },
  {
   "cell_type": "code",
   "execution_count": 9,
   "metadata": {},
   "outputs": [
    {
     "name": "stdout",
     "output_type": "stream",
     "text": [
      "loss on 0 steps is: 3.3054544925689697\n"
     ]
    },
    {
     "name": "stdout",
     "output_type": "stream",
     "text": [
      "loss on 10000 steps is: 2.1635515689849854\n",
      "loss on 20000 steps is: 1.8249815702438354\n",
      "loss on 30000 steps is: 2.0612432956695557\n",
      "loss on 40000 steps is: 2.0772268772125244\n",
      "loss on 50000 steps is: 1.9083763360977173\n",
      "loss on 60000 steps is: 2.2961766719818115\n",
      "loss on 70000 steps is: 1.8852859735488892\n",
      "loss on 80000 steps is: 1.7547707557678223\n",
      "loss on 90000 steps is: 1.9363893270492554\n",
      "loss on 100000 steps is: 2.0801610946655273\n",
      "loss on 110000 steps is: 1.557906985282898\n",
      "loss on 120000 steps is: 2.0072991847991943\n",
      "loss on 130000 steps is: 1.797333002090454\n",
      "loss on 140000 steps is: 1.8511070013046265\n",
      "loss on 150000 steps is: 1.778710126876831\n",
      "loss on 160000 steps is: 2.044206380844116\n",
      "loss on 170000 steps is: 1.8364754915237427\n",
      "loss on 180000 steps is: 2.1850814819335938\n",
      "loss on 190000 steps is: 1.586240530014038\n"
     ]
    }
   ],
   "source": [
    "max_steps = 200000\n",
    "batch_size = 64\n",
    "for _ in range(max_steps):\n",
    "    \n",
    "    ix = torch.randint(1, Xtr.shape[0], (batch_size, ))\n",
    "    Xb, Yb = Xtr[ix], Ytr[ix]\n",
    "    \n",
    "    # Forward pass\n",
    "    emb = E[Xb]\n",
    "    embcat = emb.view(emb.shape[0], -1)\n",
    "    \n",
    "    # Linear layer\n",
    "    hpreact = embcat @ W1 #+ b1\n",
    "    \n",
    "    # -------- Bartch Norm Layer ------------------------------------------------------------------------\n",
    "    bnmeani = hpreact.mean(0, keepdim=True)\n",
    "    bnstdi = (hpreact.std(0, keepdim=True))\n",
    "    hpreact = bngain * (hpreact - bnmeani) / bnstdi + bnbias  \n",
    "    with torch.no_grad():\n",
    "        bnmean_running = 0.999*bnmean_running + 0.001*bnmeani\n",
    "        bnstd_running = 0.999*bnstd_running + 0.001*bnstdi\n",
    "    # ---------------------------------------------------------------------------------------------------    \n",
    " \n",
    "    \n",
    "    # Non-linear layer\n",
    "    h = torch.tanh(hpreact)\n",
    "    logits = h @ W2 +b2\n",
    "    loss = F.cross_entropy(logits, Yb)\n",
    "    \n",
    "    # Backward pass\n",
    "    for p in parameters:\n",
    "        p.grad = None\n",
    "    loss.backward()\n",
    "    \n",
    "    # Update\n",
    "    lr = 0.1 if _ < 100000 else 0.01\n",
    "    for p in parameters:\n",
    "        p.data += -lr * p.grad\n",
    "        \n",
    "    # lri.append(lre[_])\n",
    "    if _ % 10000 ==0:\n",
    "        print(f'loss on {_} steps is: {loss.item()}')\n",
    "    lossi.append(loss.log10().item())\n",
    "\n",
    "    # break"
   ]
  },
  {
   "cell_type": "code",
   "execution_count": 10,
   "metadata": {},
   "outputs": [
    {
     "data": {
      "text/plain": [
       "<matplotlib.image.AxesImage at 0x720b261eae10>"
      ]
     },
     "execution_count": 10,
     "metadata": {},
     "output_type": "execute_result"
    },
    {
     "data": {
      "image/png": "[encoded data removed]",
      "text/plain": [
       "<Figure size 2000x1000 with 1 Axes>"
      ]
     },
     "metadata": {},
     "output_type": "display_data"
    }
   ],
   "source": [
    "plt.figure(figsize=(20, 10))\n",
    "plt.imshow(h.abs() > .99, cmap='grey', interpolation='nearest')"
   ]
  },
  {
   "cell_type": "code",
   "execution_count": 11,
   "metadata": {},
   "outputs": [
    {
     "data": {
      "text/plain": [
       "[<matplotlib.lines.Line2D at 0x720b261e9460>]"
      ]
     },
     "execution_count": 11,
     "metadata": {},
     "output_type": "execute_result"
    },
    {
     "data": {
      "image/png": "[encoded data removed]",
      "text/plain": [
       "<Figure size 640x480 with 1 Axes>"
      ]
     },
     "metadata": {},
     "output_type": "display_data"
    }
   ],
   "source": [
    "plt.plot(lossi)"
   ]
  },
  {
   "cell_type": "code",
   "execution_count": 12,
   "metadata": {},
   "outputs": [],
   "source": [
    "with torch.no_grad():\n",
    "    emb = E[Xtr]\n",
    "    embcat = emb.view(emb.shape[0], -1)\n",
    "    hpreact = embcat @ W1 \n",
    "    bnmean = hpreact.mean(0, keepdim=True)\n",
    "    bnstd = hpreact.std(0, keepdim=True)"
   ]
  },
  {
   "cell_type": "markdown",
   "metadata": {},
   "source": [
    "### Evaluating loss"
   ]
  },
  {
   "cell_type": "code",
   "execution_count": 13,
   "metadata": {},
   "outputs": [
    {
     "name": "stdout",
     "output_type": "stream",
     "text": [
      "train 1.8606481552124023\n",
      "val 2.028737783432007\n"
     ]
    }
   ],
   "source": [
    "@torch.no_grad()\n",
    "def split_loss(split):\n",
    "    x, y = {\n",
    "        'train': (Xtr, Ytr),\n",
    "        'val': (Xdev, Ydev),\n",
    "        'test': (Xte, Yte)\n",
    "    }[split]\n",
    "    emb = E[x]\n",
    "    embcat = emb.view(emb.shape[0], -1)\n",
    "    hpreact = embcat @ W1 \n",
    "    hpreact = bngain * (hpreact - bnmean) / bnstd + bnbias  \n",
    "    h = torch.tanh(hpreact)\n",
    "    logits = h @ W2 +b2\n",
    "    loss = F.cross_entropy(logits, y)\n",
    "    print(split,  loss.item())\n",
    "    \n",
    "split_loss('train')\n",
    "split_loss('val')\n",
    "    "
   ]
  },
  {
   "cell_type": "markdown",
   "metadata": {},
   "source": [
    "# Sampling from the model"
   ]
  },
  {
   "cell_type": "code",
   "execution_count": 14,
   "metadata": {},
   "outputs": [
    {
     "name": "stdout",
     "output_type": "stream",
     "text": [
      "aaliah.\n",
      "aeu.\n",
      "atuca.\n",
      "kallin.\n",
      "kentrictte.\n",
      "arius.\n",
      "valli.\n",
      "fioan.\n",
      "rehani.\n",
      "devaiyah.\n",
      "solianna.\n",
      "anniel.\n",
      "linsia.\n",
      "leryn.\n",
      "vidhi.\n",
      "farthm.\n",
      "amaira.\n",
      "demarro.\n",
      "storka.\n",
      "dezsi.\n"
     ]
    }
   ],
   "source": [
    "for i in range(20):\n",
    "    out = []\n",
    "    context = [0]*block_size\n",
    "    while True:\n",
    "        emb1 = E[torch.tensor([context])]\n",
    "        embcat = emb1.view(emb1.shape[0], -1)\n",
    "        hpreact = embcat @ W1 \n",
    "        hpreact = bngain * (hpreact - bnmean) / bnstd + bnbias  \n",
    "        h = torch.tanh(hpreact)\n",
    "        logits = h @ W2 + b2\n",
    "        p = F.softmax(logits, dim=1)\n",
    "        ix = torch.multinomial(p, num_samples=1).item()\n",
    "        context = context[1:] + [ix]\n",
    "        out.append(ix)\n",
    "\n",
    "        if ix ==0:\n",
    "            break\n",
    "        \n",
    "    print(''.join(itos[i] for i in out ))"
   ]
  },
  {
   "cell_type": "markdown",
   "metadata": {},
   "source": [
    "## Pretty good))"
   ]
  }
 ],
 "metadata": {
  "kernelspec": {
   "display_name": "ML",
   "language": "python",
   "name": "python3"
  },
  "language_info": {
   "codemirror_mode": {
    "name": "ipython",
    "version": 3
   },
   "file_extension": ".py",
   "mimetype": "text/x-python",
   "name": "python",
   "nbconvert_exporter": "python",
   "pygments_lexer": "ipython3",
   "version": "3.12.3"
  }
 },
 "nbformat": 4,
 "nbformat_minor": 2
}
